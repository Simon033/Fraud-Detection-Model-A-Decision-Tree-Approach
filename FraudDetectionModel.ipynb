{
 "cells": [
  {
   "cell_type": "markdown",
   "id": "6e29678a",
   "metadata": {},
   "source": [
    "# Fraud Detection\n",
    "---"
   ]
  },
  {
   "cell_type": "markdown",
   "id": "b49c89f0",
   "metadata": {},
   "source": [
    "## Importing libraries to work with Data"
   ]
  },
  {
   "cell_type": "code",
   "execution_count": 1,
   "id": "81cad6e1",
   "metadata": {},
   "outputs": [],
   "source": [
    "import pandas as pd\n",
    "import numpy as np\n",
    "import matplotlib.pyplot as plt\n",
    "import seaborn as sns"
   ]
  },
  {
   "cell_type": "code",
   "execution_count": 2,
   "id": "1edae91d",
   "metadata": {},
   "outputs": [],
   "source": [
    "# loading data into Dataframe\n",
    "df=pd.read_csv('Fraud.csv')"
   ]
  },
  {
   "cell_type": "code",
   "execution_count": 3,
   "id": "0bfd8c58",
   "metadata": {},
   "outputs": [
    {
     "data": {
      "text/html": [
       "<div>\n",
       "<style scoped>\n",
       "    .dataframe tbody tr th:only-of-type {\n",
       "        vertical-align: middle;\n",
       "    }\n",
       "\n",
       "    .dataframe tbody tr th {\n",
       "        vertical-align: top;\n",
       "    }\n",
       "\n",
       "    .dataframe thead th {\n",
       "        text-align: right;\n",
       "    }\n",
       "</style>\n",
       "<table border=\"1\" class=\"dataframe\">\n",
       "  <thead>\n",
       "    <tr style=\"text-align: right;\">\n",
       "      <th></th>\n",
       "      <th>step</th>\n",
       "      <th>type</th>\n",
       "      <th>amount</th>\n",
       "      <th>nameOrig</th>\n",
       "      <th>oldbalanceOrg</th>\n",
       "      <th>newbalanceOrig</th>\n",
       "      <th>nameDest</th>\n",
       "      <th>oldbalanceDest</th>\n",
       "      <th>newbalanceDest</th>\n",
       "      <th>isFraud</th>\n",
       "      <th>isFlaggedFraud</th>\n",
       "    </tr>\n",
       "  </thead>\n",
       "  <tbody>\n",
       "    <tr>\n",
       "      <th>0</th>\n",
       "      <td>1</td>\n",
       "      <td>PAYMENT</td>\n",
       "      <td>9839.64</td>\n",
       "      <td>C1231006815</td>\n",
       "      <td>170136.00</td>\n",
       "      <td>160296.36</td>\n",
       "      <td>M1979787155</td>\n",
       "      <td>0.00</td>\n",
       "      <td>0.00</td>\n",
       "      <td>0</td>\n",
       "      <td>0</td>\n",
       "    </tr>\n",
       "    <tr>\n",
       "      <th>1</th>\n",
       "      <td>1</td>\n",
       "      <td>PAYMENT</td>\n",
       "      <td>1864.28</td>\n",
       "      <td>C1666544295</td>\n",
       "      <td>21249.00</td>\n",
       "      <td>19384.72</td>\n",
       "      <td>M2044282225</td>\n",
       "      <td>0.00</td>\n",
       "      <td>0.00</td>\n",
       "      <td>0</td>\n",
       "      <td>0</td>\n",
       "    </tr>\n",
       "    <tr>\n",
       "      <th>2</th>\n",
       "      <td>1</td>\n",
       "      <td>TRANSFER</td>\n",
       "      <td>181.00</td>\n",
       "      <td>C1305486145</td>\n",
       "      <td>181.00</td>\n",
       "      <td>0.00</td>\n",
       "      <td>C553264065</td>\n",
       "      <td>0.00</td>\n",
       "      <td>0.00</td>\n",
       "      <td>1</td>\n",
       "      <td>0</td>\n",
       "    </tr>\n",
       "    <tr>\n",
       "      <th>3</th>\n",
       "      <td>1</td>\n",
       "      <td>CASH_OUT</td>\n",
       "      <td>181.00</td>\n",
       "      <td>C840083671</td>\n",
       "      <td>181.00</td>\n",
       "      <td>0.00</td>\n",
       "      <td>C38997010</td>\n",
       "      <td>21182.00</td>\n",
       "      <td>0.00</td>\n",
       "      <td>1</td>\n",
       "      <td>0</td>\n",
       "    </tr>\n",
       "    <tr>\n",
       "      <th>4</th>\n",
       "      <td>1</td>\n",
       "      <td>PAYMENT</td>\n",
       "      <td>11668.14</td>\n",
       "      <td>C2048537720</td>\n",
       "      <td>41554.00</td>\n",
       "      <td>29885.86</td>\n",
       "      <td>M1230701703</td>\n",
       "      <td>0.00</td>\n",
       "      <td>0.00</td>\n",
       "      <td>0</td>\n",
       "      <td>0</td>\n",
       "    </tr>\n",
       "    <tr>\n",
       "      <th>...</th>\n",
       "      <td>...</td>\n",
       "      <td>...</td>\n",
       "      <td>...</td>\n",
       "      <td>...</td>\n",
       "      <td>...</td>\n",
       "      <td>...</td>\n",
       "      <td>...</td>\n",
       "      <td>...</td>\n",
       "      <td>...</td>\n",
       "      <td>...</td>\n",
       "      <td>...</td>\n",
       "    </tr>\n",
       "    <tr>\n",
       "      <th>6362615</th>\n",
       "      <td>743</td>\n",
       "      <td>CASH_OUT</td>\n",
       "      <td>339682.13</td>\n",
       "      <td>C786484425</td>\n",
       "      <td>339682.13</td>\n",
       "      <td>0.00</td>\n",
       "      <td>C776919290</td>\n",
       "      <td>0.00</td>\n",
       "      <td>339682.13</td>\n",
       "      <td>1</td>\n",
       "      <td>0</td>\n",
       "    </tr>\n",
       "    <tr>\n",
       "      <th>6362616</th>\n",
       "      <td>743</td>\n",
       "      <td>TRANSFER</td>\n",
       "      <td>6311409.28</td>\n",
       "      <td>C1529008245</td>\n",
       "      <td>6311409.28</td>\n",
       "      <td>0.00</td>\n",
       "      <td>C1881841831</td>\n",
       "      <td>0.00</td>\n",
       "      <td>0.00</td>\n",
       "      <td>1</td>\n",
       "      <td>0</td>\n",
       "    </tr>\n",
       "    <tr>\n",
       "      <th>6362617</th>\n",
       "      <td>743</td>\n",
       "      <td>CASH_OUT</td>\n",
       "      <td>6311409.28</td>\n",
       "      <td>C1162922333</td>\n",
       "      <td>6311409.28</td>\n",
       "      <td>0.00</td>\n",
       "      <td>C1365125890</td>\n",
       "      <td>68488.84</td>\n",
       "      <td>6379898.11</td>\n",
       "      <td>1</td>\n",
       "      <td>0</td>\n",
       "    </tr>\n",
       "    <tr>\n",
       "      <th>6362618</th>\n",
       "      <td>743</td>\n",
       "      <td>TRANSFER</td>\n",
       "      <td>850002.52</td>\n",
       "      <td>C1685995037</td>\n",
       "      <td>850002.52</td>\n",
       "      <td>0.00</td>\n",
       "      <td>C2080388513</td>\n",
       "      <td>0.00</td>\n",
       "      <td>0.00</td>\n",
       "      <td>1</td>\n",
       "      <td>0</td>\n",
       "    </tr>\n",
       "    <tr>\n",
       "      <th>6362619</th>\n",
       "      <td>743</td>\n",
       "      <td>CASH_OUT</td>\n",
       "      <td>850002.52</td>\n",
       "      <td>C1280323807</td>\n",
       "      <td>850002.52</td>\n",
       "      <td>0.00</td>\n",
       "      <td>C873221189</td>\n",
       "      <td>6510099.11</td>\n",
       "      <td>7360101.63</td>\n",
       "      <td>1</td>\n",
       "      <td>0</td>\n",
       "    </tr>\n",
       "  </tbody>\n",
       "</table>\n",
       "<p>6362620 rows × 11 columns</p>\n",
       "</div>"
      ],
      "text/plain": [
       "         step      type      amount     nameOrig  oldbalanceOrg  \\\n",
       "0           1   PAYMENT     9839.64  C1231006815      170136.00   \n",
       "1           1   PAYMENT     1864.28  C1666544295       21249.00   \n",
       "2           1  TRANSFER      181.00  C1305486145         181.00   \n",
       "3           1  CASH_OUT      181.00   C840083671         181.00   \n",
       "4           1   PAYMENT    11668.14  C2048537720       41554.00   \n",
       "...       ...       ...         ...          ...            ...   \n",
       "6362615   743  CASH_OUT   339682.13   C786484425      339682.13   \n",
       "6362616   743  TRANSFER  6311409.28  C1529008245     6311409.28   \n",
       "6362617   743  CASH_OUT  6311409.28  C1162922333     6311409.28   \n",
       "6362618   743  TRANSFER   850002.52  C1685995037      850002.52   \n",
       "6362619   743  CASH_OUT   850002.52  C1280323807      850002.52   \n",
       "\n",
       "         newbalanceOrig     nameDest  oldbalanceDest  newbalanceDest  isFraud  \\\n",
       "0             160296.36  M1979787155            0.00            0.00        0   \n",
       "1              19384.72  M2044282225            0.00            0.00        0   \n",
       "2                  0.00   C553264065            0.00            0.00        1   \n",
       "3                  0.00    C38997010        21182.00            0.00        1   \n",
       "4              29885.86  M1230701703            0.00            0.00        0   \n",
       "...                 ...          ...             ...             ...      ...   \n",
       "6362615            0.00   C776919290            0.00       339682.13        1   \n",
       "6362616            0.00  C1881841831            0.00            0.00        1   \n",
       "6362617            0.00  C1365125890        68488.84      6379898.11        1   \n",
       "6362618            0.00  C2080388513            0.00            0.00        1   \n",
       "6362619            0.00   C873221189      6510099.11      7360101.63        1   \n",
       "\n",
       "         isFlaggedFraud  \n",
       "0                     0  \n",
       "1                     0  \n",
       "2                     0  \n",
       "3                     0  \n",
       "4                     0  \n",
       "...                 ...  \n",
       "6362615               0  \n",
       "6362616               0  \n",
       "6362617               0  \n",
       "6362618               0  \n",
       "6362619               0  \n",
       "\n",
       "[6362620 rows x 11 columns]"
      ]
     },
     "execution_count": 3,
     "metadata": {},
     "output_type": "execute_result"
    }
   ],
   "source": [
    "df"
   ]
  },
  {
   "cell_type": "markdown",
   "id": "292774b1",
   "metadata": {},
   "source": [
    "## Analysing and Preprocessing"
   ]
  },
  {
   "cell_type": "code",
   "execution_count": 4,
   "id": "b930b1a0",
   "metadata": {},
   "outputs": [
    {
     "data": {
      "text/plain": [
       "step              0\n",
       "type              0\n",
       "amount            0\n",
       "nameOrig          0\n",
       "oldbalanceOrg     0\n",
       "newbalanceOrig    0\n",
       "nameDest          0\n",
       "oldbalanceDest    0\n",
       "newbalanceDest    0\n",
       "isFraud           0\n",
       "isFlaggedFraud    0\n",
       "dtype: int64"
      ]
     },
     "execution_count": 4,
     "metadata": {},
     "output_type": "execute_result"
    }
   ],
   "source": [
    "# checking for null values\n",
    "df.isna().sum()"
   ]
  },
  {
   "cell_type": "code",
   "execution_count": 5,
   "id": "5bd40e83",
   "metadata": {},
   "outputs": [
    {
     "name": "stdout",
     "output_type": "stream",
     "text": [
      "<class 'pandas.core.frame.DataFrame'>\n",
      "RangeIndex: 6362620 entries, 0 to 6362619\n",
      "Data columns (total 11 columns):\n",
      " #   Column          Dtype  \n",
      "---  ------          -----  \n",
      " 0   step            int64  \n",
      " 1   type            object \n",
      " 2   amount          float64\n",
      " 3   nameOrig        object \n",
      " 4   oldbalanceOrg   float64\n",
      " 5   newbalanceOrig  float64\n",
      " 6   nameDest        object \n",
      " 7   oldbalanceDest  float64\n",
      " 8   newbalanceDest  float64\n",
      " 9   isFraud         int64  \n",
      " 10  isFlaggedFraud  int64  \n",
      "dtypes: float64(5), int64(3), object(3)\n",
      "memory usage: 534.0+ MB\n"
     ]
    }
   ],
   "source": [
    "df.info()"
   ]
  },
  {
   "cell_type": "code",
   "execution_count": 6,
   "id": "dcbe99de",
   "metadata": {},
   "outputs": [
    {
     "data": {
      "text/plain": [
       "<Axes: >"
      ]
     },
     "execution_count": 6,
     "metadata": {},
     "output_type": "execute_result"
    },
    {
     "data": {
      "image/png": "[encoded data removed]",
      "text/plain": [
       "<Figure size 640x480 with 1 Axes>"
      ]
     },
     "metadata": {},
     "output_type": "display_data"
    }
   ],
   "source": [
    "df['isFraud'].replace([0,1],['NotFraud','IsFraud']).value_counts().plot(kind='pie',autopct='%1.1f%%',label='')"
   ]
  },
  {
   "cell_type": "markdown",
   "id": "5de776c1",
   "metadata": {},
   "source": [
    "The data is imbalanced and has only 0.1% cases of Fraud"
   ]
  },
  {
   "cell_type": "markdown",
   "id": "8f9191d7",
   "metadata": {},
   "source": [
    "#### Creating a new dataframe to edit and work with"
   ]
  },
  {
   "cell_type": "code",
   "execution_count": 7,
   "id": "14db7073",
   "metadata": {},
   "outputs": [],
   "source": [
    "changed=df.copy()"
   ]
  },
  {
   "cell_type": "code",
   "execution_count": 8,
   "id": "72567d49",
   "metadata": {},
   "outputs": [],
   "source": [
    "# dropping irrelevant column\n",
    "changed.drop(['step'],axis=1,inplace=True)"
   ]
  },
  {
   "cell_type": "markdown",
   "id": "c2999933",
   "metadata": {},
   "source": [
    "### simplyfying the 'nameOrig' & 'nameDest' columns to just the first character"
   ]
  },
  {
   "cell_type": "code",
   "execution_count": 9,
   "id": "3472ebea",
   "metadata": {},
   "outputs": [],
   "source": [
    "changed['nameDest']=changed['nameDest'].str[:1]\n",
    "changed['nameOrig']=changed['nameOrig'].str[:1]"
   ]
  },
  {
   "cell_type": "code",
   "execution_count": 10,
   "id": "e707a54d",
   "metadata": {},
   "outputs": [
    {
     "data": {
      "text/plain": [
       "C    6362620\n",
       "Name: nameOrig, dtype: int64"
      ]
     },
     "execution_count": 10,
     "metadata": {},
     "output_type": "execute_result"
    }
   ],
   "source": [
    "#determining the type of values in 'nameorig'\n",
    "changed['nameOrig'].value_counts()"
   ]
  },
  {
   "cell_type": "markdown",
   "id": "6dd68a17",
   "metadata": {},
   "source": [
    "#### Since the value is constant 'nameOrig' it is an irrelevant variable"
   ]
  },
  {
   "cell_type": "code",
   "execution_count": 11,
   "id": "f397d1c9",
   "metadata": {},
   "outputs": [],
   "source": [
    "changed.drop(['nameOrig'],axis=1,inplace=True)"
   ]
  },
  {
   "cell_type": "code",
   "execution_count": 12,
   "id": "f46197e6",
   "metadata": {
    "scrolled": false
   },
   "outputs": [
    {
     "data": {
      "text/plain": [
       "C    4211125\n",
       "M    2151495\n",
       "Name: nameDest, dtype: int64"
      ]
     },
     "execution_count": 12,
     "metadata": {},
     "output_type": "execute_result"
    }
   ],
   "source": [
    "#determining the type of values in 'namedest'\n",
    "changed['nameDest'].value_counts()"
   ]
  },
  {
   "cell_type": "code",
   "execution_count": 13,
   "id": "71c7a604",
   "metadata": {},
   "outputs": [
    {
     "data": {
      "text/plain": [
       "<Axes: >"
      ]
     },
     "execution_count": 13,
     "metadata": {},
     "output_type": "execute_result"
    },
    {
     "data": {
      "image/png": "[encoded data removed]",
      "text/plain": [
       "<Figure size 640x480 with 1 Axes>"
      ]
     },
     "metadata": {},
     "output_type": "display_data"
    }
   ],
   "source": [
    "#determining relavance of 'nameDest'\n",
    "changed.groupby(['nameDest'])['isFraud'].sum().plot(kind='pie',autopct='%1.1f%%',label='')"
   ]
  },
  {
   "cell_type": "markdown",
   "id": "f266b432",
   "metadata": {},
   "source": [
    "*high relevance, no merchant payments are fraud and thus this could be a good determining factor*"
   ]
  },
  {
   "cell_type": "markdown",
   "id": "09774ea9",
   "metadata": {},
   "source": [
    "#### encoding 'nameDest' (1,0 for C,M respectively)"
   ]
  },
  {
   "cell_type": "code",
   "execution_count": 14,
   "id": "4acf5f32",
   "metadata": {},
   "outputs": [],
   "source": [
    "changed['nameDest'].replace(['C','M'],[1,0],inplace=True)"
   ]
  },
  {
   "cell_type": "markdown",
   "id": "475f685f",
   "metadata": {},
   "source": [
    "#### Encoding the type column"
   ]
  },
  {
   "cell_type": "code",
   "execution_count": 15,
   "id": "93f55259",
   "metadata": {},
   "outputs": [
    {
     "data": {
      "text/plain": [
       "array(['PAYMENT', 'TRANSFER', 'CASH_OUT', 'DEBIT', 'CASH_IN'],\n",
       "      dtype=object)"
      ]
     },
     "execution_count": 15,
     "metadata": {},
     "output_type": "execute_result"
    }
   ],
   "source": [
    "#encoding the type column\n",
    "changed['type'].unique()"
   ]
  },
  {
   "cell_type": "code",
   "execution_count": 16,
   "id": "a527782d",
   "metadata": {},
   "outputs": [],
   "source": [
    "from sklearn.preprocessing import LabelEncoder\n",
    "label_enc=LabelEncoder()\n",
    "changed['type']=label_enc.fit_transform(changed['type'])+1"
   ]
  },
  {
   "cell_type": "code",
   "execution_count": 17,
   "id": "446b9337",
   "metadata": {},
   "outputs": [
    {
     "data": {
      "text/html": [
       "<div>\n",
       "<style scoped>\n",
       "    .dataframe tbody tr th:only-of-type {\n",
       "        vertical-align: middle;\n",
       "    }\n",
       "\n",
       "    .dataframe tbody tr th {\n",
       "        vertical-align: top;\n",
       "    }\n",
       "\n",
       "    .dataframe thead th {\n",
       "        text-align: right;\n",
       "    }\n",
       "</style>\n",
       "<table border=\"1\" class=\"dataframe\">\n",
       "  <thead>\n",
       "    <tr style=\"text-align: right;\">\n",
       "      <th></th>\n",
       "      <th>type</th>\n",
       "      <th>amount</th>\n",
       "      <th>oldbalanceOrg</th>\n",
       "      <th>newbalanceOrig</th>\n",
       "      <th>nameDest</th>\n",
       "      <th>oldbalanceDest</th>\n",
       "      <th>newbalanceDest</th>\n",
       "      <th>isFraud</th>\n",
       "      <th>isFlaggedFraud</th>\n",
       "    </tr>\n",
       "  </thead>\n",
       "  <tbody>\n",
       "    <tr>\n",
       "      <th>0</th>\n",
       "      <td>4</td>\n",
       "      <td>9839.64</td>\n",
       "      <td>170136.00</td>\n",
       "      <td>160296.36</td>\n",
       "      <td>0</td>\n",
       "      <td>0.00</td>\n",
       "      <td>0.00</td>\n",
       "      <td>0</td>\n",
       "      <td>0</td>\n",
       "    </tr>\n",
       "    <tr>\n",
       "      <th>1</th>\n",
       "      <td>4</td>\n",
       "      <td>1864.28</td>\n",
       "      <td>21249.00</td>\n",
       "      <td>19384.72</td>\n",
       "      <td>0</td>\n",
       "      <td>0.00</td>\n",
       "      <td>0.00</td>\n",
       "      <td>0</td>\n",
       "      <td>0</td>\n",
       "    </tr>\n",
       "    <tr>\n",
       "      <th>2</th>\n",
       "      <td>5</td>\n",
       "      <td>181.00</td>\n",
       "      <td>181.00</td>\n",
       "      <td>0.00</td>\n",
       "      <td>1</td>\n",
       "      <td>0.00</td>\n",
       "      <td>0.00</td>\n",
       "      <td>1</td>\n",
       "      <td>0</td>\n",
       "    </tr>\n",
       "    <tr>\n",
       "      <th>3</th>\n",
       "      <td>2</td>\n",
       "      <td>181.00</td>\n",
       "      <td>181.00</td>\n",
       "      <td>0.00</td>\n",
       "      <td>1</td>\n",
       "      <td>21182.00</td>\n",
       "      <td>0.00</td>\n",
       "      <td>1</td>\n",
       "      <td>0</td>\n",
       "    </tr>\n",
       "    <tr>\n",
       "      <th>4</th>\n",
       "      <td>4</td>\n",
       "      <td>11668.14</td>\n",
       "      <td>41554.00</td>\n",
       "      <td>29885.86</td>\n",
       "      <td>0</td>\n",
       "      <td>0.00</td>\n",
       "      <td>0.00</td>\n",
       "      <td>0</td>\n",
       "      <td>0</td>\n",
       "    </tr>\n",
       "    <tr>\n",
       "      <th>...</th>\n",
       "      <td>...</td>\n",
       "      <td>...</td>\n",
       "      <td>...</td>\n",
       "      <td>...</td>\n",
       "      <td>...</td>\n",
       "      <td>...</td>\n",
       "      <td>...</td>\n",
       "      <td>...</td>\n",
       "      <td>...</td>\n",
       "    </tr>\n",
       "    <tr>\n",
       "      <th>6362615</th>\n",
       "      <td>2</td>\n",
       "      <td>339682.13</td>\n",
       "      <td>339682.13</td>\n",
       "      <td>0.00</td>\n",
       "      <td>1</td>\n",
       "      <td>0.00</td>\n",
       "      <td>339682.13</td>\n",
       "      <td>1</td>\n",
       "      <td>0</td>\n",
       "    </tr>\n",
       "    <tr>\n",
       "      <th>6362616</th>\n",
       "      <td>5</td>\n",
       "      <td>6311409.28</td>\n",
       "      <td>6311409.28</td>\n",
       "      <td>0.00</td>\n",
       "      <td>1</td>\n",
       "      <td>0.00</td>\n",
       "      <td>0.00</td>\n",
       "      <td>1</td>\n",
       "      <td>0</td>\n",
       "    </tr>\n",
       "    <tr>\n",
       "      <th>6362617</th>\n",
       "      <td>2</td>\n",
       "      <td>6311409.28</td>\n",
       "      <td>6311409.28</td>\n",
       "      <td>0.00</td>\n",
       "      <td>1</td>\n",
       "      <td>68488.84</td>\n",
       "      <td>6379898.11</td>\n",
       "      <td>1</td>\n",
       "      <td>0</td>\n",
       "    </tr>\n",
       "    <tr>\n",
       "      <th>6362618</th>\n",
       "      <td>5</td>\n",
       "      <td>850002.52</td>\n",
       "      <td>850002.52</td>\n",
       "      <td>0.00</td>\n",
       "      <td>1</td>\n",
       "      <td>0.00</td>\n",
       "      <td>0.00</td>\n",
       "      <td>1</td>\n",
       "      <td>0</td>\n",
       "    </tr>\n",
       "    <tr>\n",
       "      <th>6362619</th>\n",
       "      <td>2</td>\n",
       "      <td>850002.52</td>\n",
       "      <td>850002.52</td>\n",
       "      <td>0.00</td>\n",
       "      <td>1</td>\n",
       "      <td>6510099.11</td>\n",
       "      <td>7360101.63</td>\n",
       "      <td>1</td>\n",
       "      <td>0</td>\n",
       "    </tr>\n",
       "  </tbody>\n",
       "</table>\n",
       "<p>6362620 rows × 9 columns</p>\n",
       "</div>"
      ],
      "text/plain": [
       "         type      amount  oldbalanceOrg  newbalanceOrig  nameDest  \\\n",
       "0           4     9839.64      170136.00       160296.36         0   \n",
       "1           4     1864.28       21249.00        19384.72         0   \n",
       "2           5      181.00         181.00            0.00         1   \n",
       "3           2      181.00         181.00            0.00         1   \n",
       "4           4    11668.14       41554.00        29885.86         0   \n",
       "...       ...         ...            ...             ...       ...   \n",
       "6362615     2   339682.13      339682.13            0.00         1   \n",
       "6362616     5  6311409.28     6311409.28            0.00         1   \n",
       "6362617     2  6311409.28     6311409.28            0.00         1   \n",
       "6362618     5   850002.52      850002.52            0.00         1   \n",
       "6362619     2   850002.52      850002.52            0.00         1   \n",
       "\n",
       "         oldbalanceDest  newbalanceDest  isFraud  isFlaggedFraud  \n",
       "0                  0.00            0.00        0               0  \n",
       "1                  0.00            0.00        0               0  \n",
       "2                  0.00            0.00        1               0  \n",
       "3              21182.00            0.00        1               0  \n",
       "4                  0.00            0.00        0               0  \n",
       "...                 ...             ...      ...             ...  \n",
       "6362615            0.00       339682.13        1               0  \n",
       "6362616            0.00            0.00        1               0  \n",
       "6362617        68488.84      6379898.11        1               0  \n",
       "6362618            0.00            0.00        1               0  \n",
       "6362619      6510099.11      7360101.63        1               0  \n",
       "\n",
       "[6362620 rows x 9 columns]"
      ]
     },
     "execution_count": 17,
     "metadata": {},
     "output_type": "execute_result"
    }
   ],
   "source": [
    "changed"
   ]
  },
  {
   "cell_type": "code",
   "execution_count": 18,
   "id": "d95db122",
   "metadata": {},
   "outputs": [
    {
     "data": {
      "text/plain": [
       "16"
      ]
     },
     "execution_count": 18,
     "metadata": {},
     "output_type": "execute_result"
    }
   ],
   "source": [
    "# determining relevance of 'isFlaggedFraud'\n",
    "df['isFlaggedFraud'].sum()"
   ]
  },
  {
   "cell_type": "code",
   "execution_count": 19,
   "id": "4f5818ed",
   "metadata": {},
   "outputs": [
    {
     "data": {
      "text/plain": [
       "isFraud\n",
       "0     0\n",
       "1    16\n",
       "Name: isFlaggedFraud, dtype: int64"
      ]
     },
     "execution_count": 19,
     "metadata": {},
     "output_type": "execute_result"
    }
   ],
   "source": [
    "df.groupby(['isFraud'])['isFlaggedFraud'].sum()"
   ]
  },
  {
   "cell_type": "markdown",
   "id": "5da09cea",
   "metadata": {},
   "source": [
    "*high relevance, all the flagged ones are indeed fraud*"
   ]
  },
  {
   "cell_type": "markdown",
   "id": "6a3d78fe",
   "metadata": {},
   "source": [
    "### Creating a correlation matrix"
   ]
  },
  {
   "cell_type": "code",
   "execution_count": 20,
   "id": "07af25f2",
   "metadata": {},
   "outputs": [
    {
     "data": {
      "text/plain": [
       "<Axes: >"
      ]
     },
     "execution_count": 20,
     "metadata": {},
     "output_type": "execute_result"
    },
    {
     "data": {
      "image/png": "[encoded data removed]",
      "text/plain": [
       "<Figure size 1000x600 with 2 Axes>"
      ]
     },
     "metadata": {},
     "output_type": "display_data"
    }
   ],
   "source": [
    "#Creating a correlation matrix\n",
    "corr=changed.corr()\n",
    "\n",
    "plt.figure(figsize=(10,6))\n",
    "sns.heatmap(corr,annot=True)"
   ]
  },
  {
   "cell_type": "markdown",
   "id": "8c9d77fa",
   "metadata": {},
   "source": [
    "## Selecting Features"
   ]
  },
  {
   "cell_type": "code",
   "execution_count": 21,
   "id": "3e7c3742",
   "metadata": {},
   "outputs": [],
   "source": [
    "#selecting relevant features\n",
    "x=changed[['type','amount','oldbalanceOrg','newbalanceOrig','nameDest','isFlaggedFraud']]"
   ]
  },
  {
   "cell_type": "code",
   "execution_count": 22,
   "id": "6544fa80",
   "metadata": {
    "scrolled": true
   },
   "outputs": [
    {
     "data": {
      "text/plain": [
       "type              0\n",
       "amount            0\n",
       "oldbalanceOrg     0\n",
       "newbalanceOrig    0\n",
       "nameDest          0\n",
       "isFlaggedFraud    0\n",
       "dtype: int64"
      ]
     },
     "execution_count": 22,
     "metadata": {},
     "output_type": "execute_result"
    }
   ],
   "source": [
    "x.isna().sum()"
   ]
  },
  {
   "cell_type": "code",
   "execution_count": 23,
   "id": "af26f5eb",
   "metadata": {},
   "outputs": [
    {
     "data": {
      "text/html": [
       "<div>\n",
       "<style scoped>\n",
       "    .dataframe tbody tr th:only-of-type {\n",
       "        vertical-align: middle;\n",
       "    }\n",
       "\n",
       "    .dataframe tbody tr th {\n",
       "        vertical-align: top;\n",
       "    }\n",
       "\n",
       "    .dataframe thead th {\n",
       "        text-align: right;\n",
       "    }\n",
       "</style>\n",
       "<table border=\"1\" class=\"dataframe\">\n",
       "  <thead>\n",
       "    <tr style=\"text-align: right;\">\n",
       "      <th></th>\n",
       "      <th>type</th>\n",
       "      <th>amount</th>\n",
       "      <th>oldbalanceOrg</th>\n",
       "      <th>newbalanceOrig</th>\n",
       "      <th>nameDest</th>\n",
       "      <th>isFlaggedFraud</th>\n",
       "    </tr>\n",
       "  </thead>\n",
       "  <tbody>\n",
       "    <tr>\n",
       "      <th>0</th>\n",
       "      <td>4</td>\n",
       "      <td>9839.64</td>\n",
       "      <td>170136.00</td>\n",
       "      <td>160296.36</td>\n",
       "      <td>0</td>\n",
       "      <td>0</td>\n",
       "    </tr>\n",
       "    <tr>\n",
       "      <th>1</th>\n",
       "      <td>4</td>\n",
       "      <td>1864.28</td>\n",
       "      <td>21249.00</td>\n",
       "      <td>19384.72</td>\n",
       "      <td>0</td>\n",
       "      <td>0</td>\n",
       "    </tr>\n",
       "    <tr>\n",
       "      <th>2</th>\n",
       "      <td>5</td>\n",
       "      <td>181.00</td>\n",
       "      <td>181.00</td>\n",
       "      <td>0.00</td>\n",
       "      <td>1</td>\n",
       "      <td>0</td>\n",
       "    </tr>\n",
       "    <tr>\n",
       "      <th>3</th>\n",
       "      <td>2</td>\n",
       "      <td>181.00</td>\n",
       "      <td>181.00</td>\n",
       "      <td>0.00</td>\n",
       "      <td>1</td>\n",
       "      <td>0</td>\n",
       "    </tr>\n",
       "    <tr>\n",
       "      <th>4</th>\n",
       "      <td>4</td>\n",
       "      <td>11668.14</td>\n",
       "      <td>41554.00</td>\n",
       "      <td>29885.86</td>\n",
       "      <td>0</td>\n",
       "      <td>0</td>\n",
       "    </tr>\n",
       "    <tr>\n",
       "      <th>...</th>\n",
       "      <td>...</td>\n",
       "      <td>...</td>\n",
       "      <td>...</td>\n",
       "      <td>...</td>\n",
       "      <td>...</td>\n",
       "      <td>...</td>\n",
       "    </tr>\n",
       "    <tr>\n",
       "      <th>6362615</th>\n",
       "      <td>2</td>\n",
       "      <td>339682.13</td>\n",
       "      <td>339682.13</td>\n",
       "      <td>0.00</td>\n",
       "      <td>1</td>\n",
       "      <td>0</td>\n",
       "    </tr>\n",
       "    <tr>\n",
       "      <th>6362616</th>\n",
       "      <td>5</td>\n",
       "      <td>6311409.28</td>\n",
       "      <td>6311409.28</td>\n",
       "      <td>0.00</td>\n",
       "      <td>1</td>\n",
       "      <td>0</td>\n",
       "    </tr>\n",
       "    <tr>\n",
       "      <th>6362617</th>\n",
       "      <td>2</td>\n",
       "      <td>6311409.28</td>\n",
       "      <td>6311409.28</td>\n",
       "      <td>0.00</td>\n",
       "      <td>1</td>\n",
       "      <td>0</td>\n",
       "    </tr>\n",
       "    <tr>\n",
       "      <th>6362618</th>\n",
       "      <td>5</td>\n",
       "      <td>850002.52</td>\n",
       "      <td>850002.52</td>\n",
       "      <td>0.00</td>\n",
       "      <td>1</td>\n",
       "      <td>0</td>\n",
       "    </tr>\n",
       "    <tr>\n",
       "      <th>6362619</th>\n",
       "      <td>2</td>\n",
       "      <td>850002.52</td>\n",
       "      <td>850002.52</td>\n",
       "      <td>0.00</td>\n",
       "      <td>1</td>\n",
       "      <td>0</td>\n",
       "    </tr>\n",
       "  </tbody>\n",
       "</table>\n",
       "<p>6362620 rows × 6 columns</p>\n",
       "</div>"
      ],
      "text/plain": [
       "         type      amount  oldbalanceOrg  newbalanceOrig  nameDest  \\\n",
       "0           4     9839.64      170136.00       160296.36         0   \n",
       "1           4     1864.28       21249.00        19384.72         0   \n",
       "2           5      181.00         181.00            0.00         1   \n",
       "3           2      181.00         181.00            0.00         1   \n",
       "4           4    11668.14       41554.00        29885.86         0   \n",
       "...       ...         ...            ...             ...       ...   \n",
       "6362615     2   339682.13      339682.13            0.00         1   \n",
       "6362616     5  6311409.28     6311409.28            0.00         1   \n",
       "6362617     2  6311409.28     6311409.28            0.00         1   \n",
       "6362618     5   850002.52      850002.52            0.00         1   \n",
       "6362619     2   850002.52      850002.52            0.00         1   \n",
       "\n",
       "         isFlaggedFraud  \n",
       "0                     0  \n",
       "1                     0  \n",
       "2                     0  \n",
       "3                     0  \n",
       "4                     0  \n",
       "...                 ...  \n",
       "6362615               0  \n",
       "6362616               0  \n",
       "6362617               0  \n",
       "6362618               0  \n",
       "6362619               0  \n",
       "\n",
       "[6362620 rows x 6 columns]"
      ]
     },
     "execution_count": 23,
     "metadata": {},
     "output_type": "execute_result"
    }
   ],
   "source": [
    "x"
   ]
  },
  {
   "cell_type": "code",
   "execution_count": 24,
   "id": "e00fdfff",
   "metadata": {},
   "outputs": [],
   "source": [
    "y=changed['isFraud']"
   ]
  },
  {
   "cell_type": "markdown",
   "id": "5e55ca60",
   "metadata": {},
   "source": [
    "## Model Selection and Training"
   ]
  },
  {
   "cell_type": "code",
   "execution_count": 25,
   "id": "3bf70c53",
   "metadata": {},
   "outputs": [],
   "source": [
    "#splitting data\n",
    "from sklearn.model_selection import train_test_split"
   ]
  },
  {
   "cell_type": "code",
   "execution_count": 26,
   "id": "e926aff3",
   "metadata": {},
   "outputs": [],
   "source": [
    "x_train,x_test,y_train,y_test=train_test_split(x,y,test_size=0.2,random_state=42)"
   ]
  },
  {
   "cell_type": "markdown",
   "id": "c77eddcb",
   "metadata": {},
   "source": [
    "#### Logistic Regression Model"
   ]
  },
  {
   "cell_type": "markdown",
   "id": "ece9003f",
   "metadata": {},
   "source": [
    "I've selcted LogisticRegression as the classification model for this assignment as it is very good at predicting binary output and working with varying data"
   ]
  },
  {
   "cell_type": "code",
   "execution_count": 27,
   "id": "ae6043c6",
   "metadata": {},
   "outputs": [],
   "source": [
    "from sklearn.linear_model import LogisticRegression\n",
    "lrc=LogisticRegression()"
   ]
  },
  {
   "cell_type": "code",
   "execution_count": 28,
   "id": "32285c1e",
   "metadata": {},
   "outputs": [
    {
     "name": "stdout",
     "output_type": "stream",
     "text": [
      "CPU times: total: 24.2 s\n",
      "Wall time: 13.6 s\n"
     ]
    },
    {
     "data": {
      "text/html": [
       "<style>#sk-container-id-1 {color: black;background-color: white;}#sk-container-id-1 pre{padding: 0;}#sk-container-id-1 div.sk-toggleable {background-color: white;}#sk-container-id-1 label.sk-toggleable__label {cursor: pointer;display: block;width: 100%;margin-bottom: 0;padding: 0.3em;box-sizing: border-box;text-align: center;}#sk-container-id-1 label.sk-toggleable__label-arrow:before {content: \"▸\";float: left;margin-right: 0.25em;color: #696969;}#sk-container-id-1 label.sk-toggleable__label-arrow:hover:before {color: black;}#sk-container-id-1 div.sk-estimator:hover label.sk-toggleable__label-arrow:before {color: black;}#sk-container-id-1 div.sk-toggleable__content {max-height: 0;max-width: 0;overflow: hidden;text-align: left;background-color: #f0f8ff;}#sk-container-id-1 div.sk-toggleable__content pre {margin: 0.2em;color: black;border-radius: 0.25em;background-color: #f0f8ff;}#sk-container-id-1 input.sk-toggleable__control:checked~div.sk-toggleable__content {max-height: 200px;max-width: 100%;overflow: auto;}#sk-container-id-1 input.sk-toggleable__control:checked~label.sk-toggleable__label-arrow:before {content: \"▾\";}#sk-container-id-1 div.sk-estimator input.sk-toggleable__control:checked~label.sk-toggleable__label {background-color: #d4ebff;}#sk-container-id-1 div.sk-label input.sk-toggleable__control:checked~label.sk-toggleable__label {background-color: #d4ebff;}#sk-container-id-1 input.sk-hidden--visually {border: 0;clip: rect(1px 1px 1px 1px);clip: rect(1px, 1px, 1px, 1px);height: 1px;margin: -1px;overflow: hidden;padding: 0;position: absolute;width: 1px;}#sk-container-id-1 div.sk-estimator {font-family: monospace;background-color: #f0f8ff;border: 1px dotted black;border-radius: 0.25em;box-sizing: border-box;margin-bottom: 0.5em;}#sk-container-id-1 div.sk-estimator:hover {background-color: #d4ebff;}#sk-container-id-1 div.sk-parallel-item::after {content: \"\";width: 100%;border-bottom: 1px solid gray;flex-grow: 1;}#sk-container-id-1 div.sk-label:hover label.sk-toggleable__label {background-color: #d4ebff;}#sk-container-id-1 div.sk-serial::before {content: \"\";position: absolute;border-left: 1px solid gray;box-sizing: border-box;top: 0;bottom: 0;left: 50%;z-index: 0;}#sk-container-id-1 div.sk-serial {display: flex;flex-direction: column;align-items: center;background-color: white;padding-right: 0.2em;padding-left: 0.2em;position: relative;}#sk-container-id-1 div.sk-item {position: relative;z-index: 1;}#sk-container-id-1 div.sk-parallel {display: flex;align-items: stretch;justify-content: center;background-color: white;position: relative;}#sk-container-id-1 div.sk-item::before, #sk-container-id-1 div.sk-parallel-item::before {content: \"\";position: absolute;border-left: 1px solid gray;box-sizing: border-box;top: 0;bottom: 0;left: 50%;z-index: -1;}#sk-container-id-1 div.sk-parallel-item {display: flex;flex-direction: column;z-index: 1;position: relative;background-color: white;}#sk-container-id-1 div.sk-parallel-item:first-child::after {align-self: flex-end;width: 50%;}#sk-container-id-1 div.sk-parallel-item:last-child::after {align-self: flex-start;width: 50%;}#sk-container-id-1 div.sk-parallel-item:only-child::after {width: 0;}#sk-container-id-1 div.sk-dashed-wrapped {border: 1px dashed gray;margin: 0 0.4em 0.5em 0.4em;box-sizing: border-box;padding-bottom: 0.4em;background-color: white;}#sk-container-id-1 div.sk-label label {font-family: monospace;font-weight: bold;display: inline-block;line-height: 1.2em;}#sk-container-id-1 div.sk-label-container {text-align: center;}#sk-container-id-1 div.sk-container {/* jupyter's `normalize.less` sets `[hidden] { display: none; }` but bootstrap.min.css set `[hidden] { display: none !important; }` so we also need the `!important` here to be able to override the default hidden behavior on the sphinx rendered scikit-learn.org. See: https://github.com/scikit-learn/scikit-learn/issues/21755 */display: inline-block !important;position: relative;}#sk-container-id-1 div.sk-text-repr-fallback {display: none;}</style><div id=\"sk-container-id-1\" class=\"sk-top-container\"><div class=\"sk-text-repr-fallback\"><pre>LogisticRegression()</pre><b>In a Jupyter environment, please rerun this cell to show the HTML representation or trust the notebook. <br />On GitHub, the HTML representation is unable to render, please try loading this page with nbviewer.org.</b></div><div class=\"sk-container\" hidden><div class=\"sk-item\"><div class=\"sk-estimator sk-toggleable\"><input class=\"sk-toggleable__control sk-hidden--visually\" id=\"sk-estimator-id-1\" type=\"checkbox\" checked><label for=\"sk-estimator-id-1\" class=\"sk-toggleable__label sk-toggleable__label-arrow\">LogisticRegression</label><div class=\"sk-toggleable__content\"><pre>LogisticRegression()</pre></div></div></div></div></div>"
      ],
      "text/plain": [
       "LogisticRegression()"
      ]
     },
     "execution_count": 28,
     "metadata": {},
     "output_type": "execute_result"
    }
   ],
   "source": [
    "%%time\n",
    "#training the model\n",
    "lrc.fit(x_train,y_train)"
   ]
  },
  {
   "cell_type": "markdown",
   "id": "30174e59",
   "metadata": {},
   "source": [
    "## Evaluation"
   ]
  },
  {
   "cell_type": "code",
   "execution_count": 29,
   "id": "4cb6b7e5",
   "metadata": {},
   "outputs": [],
   "source": [
    "from sklearn.metrics import accuracy_score, classification_report, confusion_matrix"
   ]
  },
  {
   "cell_type": "code",
   "execution_count": 30,
   "id": "244eb570",
   "metadata": {},
   "outputs": [
    {
     "data": {
      "text/plain": [
       "0.9994766306961598"
      ]
     },
     "execution_count": 30,
     "metadata": {},
     "output_type": "execute_result"
    }
   ],
   "source": [
    "# prediction and score\n",
    "y_pred=lrc.predict(x_test)\n",
    "lrc.score(x_test,y_test)"
   ]
  },
  {
   "cell_type": "code",
   "execution_count": 31,
   "id": "33b7feb6",
   "metadata": {},
   "outputs": [
    {
     "name": "stdout",
     "output_type": "stream",
     "text": [
      "Accuracy score: 0.9994766306961598\n",
      "\n",
      "Confusion Matrix:\n"
     ]
    },
    {
     "data": {
      "image/png": "[encoded data removed]",
      "text/plain": [
       "<Figure size 400x300 with 1 Axes>"
      ]
     },
     "metadata": {},
     "output_type": "display_data"
    },
    {
     "name": "stdout",
     "output_type": "stream",
     "text": [
      "\n",
      "Classification Report:\n",
      "              precision    recall  f1-score   support\n",
      "\n",
      "           0       1.00      1.00      1.00   1270904\n",
      "           1       0.71      0.98      0.83      1620\n",
      "\n",
      "    accuracy                           1.00   1272524\n",
      "   macro avg       0.86      0.99      0.91   1272524\n",
      "weighted avg       1.00      1.00      1.00   1272524\n",
      "\n"
     ]
    }
   ],
   "source": [
    "# Calculate the accuracy using accuracy_score\n",
    "accuracy = accuracy_score(y_test, y_pred)\n",
    "\n",
    "# Creating a confusion matrix\n",
    "cm = confusion_matrix(y_test, y_pred)\n",
    "\n",
    "# Creating a classification report\n",
    "report = classification_report(y_test, y_pred)\n",
    "\n",
    "print(\"Accuracy score:\", accuracy)\n",
    "\n",
    "#plotting a heatmap of the confusion matrix\n",
    "print(\"\\nConfusion Matrix:\")\n",
    "plt.figure(figsize=(4, 3))\n",
    "sns.heatmap(cm, annot=True, fmt='d', cmap='Blues', cbar=False)\n",
    "plt.xlabel('Predicted')\n",
    "plt.ylabel('Actual')\n",
    "plt.title('Confusion Matrix')\n",
    "plt.show()\n",
    "\n",
    "print(\"\\nClassification Report:\")\n",
    "print(report)"
   ]
  },
  {
   "cell_type": "markdown",
   "id": "a23686aa",
   "metadata": {},
   "source": [
    "### Interpretting the Model\n",
    "#### Model Feature coefficient"
   ]
  },
  {
   "cell_type": "code",
   "execution_count": 32,
   "id": "fd7cc1ac",
   "metadata": {},
   "outputs": [
    {
     "name": "stdout",
     "output_type": "stream",
     "text": [
      "          Feature   Coefficient\n",
      "0            type -2.866886e-06\n",
      "1          amount -8.845515e-04\n",
      "2   oldbalanceOrg  8.851487e-04\n",
      "3  newbalanceOrig -9.643233e-04\n",
      "4        nameDest -1.434750e-07\n",
      "5  isFlaggedFraud  2.764504e-11\n"
     ]
    }
   ],
   "source": [
    "coeff_df = pd.DataFrame({'Feature': x.columns, 'Coefficient': lrc.coef_[0]})\n",
    "print(coeff_df)"
   ]
  },
  {
   "cell_type": "code",
   "execution_count": null,
   "id": "dda27372",
   "metadata": {},
   "outputs": [],
   "source": []
  },
  {
   "cell_type": "markdown",
   "id": "6cd69bb3",
   "metadata": {},
   "source": [
    "## Questions.\n",
    "1. Data cleaning including missing values, outliers and multi-collinearity.\n",
    "2. Describe your fraud detection model in elaboration.\n",
    "3. How did you select variables to be included in the model?\n",
    "4. Demonstrate the performance of the model by using best set of tools.\n",
    "5. What are the key factors that predict fraudulent customer?\n",
    "6. Do these factors make sense? If yes, How? If not, How not?\n",
    "7. What kind of prevention should be adopted while company update its infrastructure?\n",
    "8. Assuming these actions have been implemented, how would you determine if they work?"
   ]
  },
  {
   "cell_type": "markdown",
   "id": "4d9ba845",
   "metadata": {},
   "source": [
    "### 1. Data cleaning including missing values, outliers and multi-collinearity.\n",
    "- The 'type' column was encoded to numerical value\n",
    "- The 'nameOrig' and 'nameDest' elememts were changed to just their prefix letter.\n",
    "- 'nameOrig' was dropped as it had a constant value.\n",
    "- 'nameDest' was encode to numerical value.\n",
    "- 'oldbalanceDest' and 'newbalanceDest' was dropped as it had no data for merchants."
   ]
  },
  {
   "cell_type": "markdown",
   "id": "083d6b3d",
   "metadata": {},
   "source": [
    "### 2.Describe your fraud detection model in elaboration.\n",
    "\n",
    "\\* **Introduction:**\n",
    "The purpose of this fraud detection model is to distinguish between legitimate and fraulent transaction by looking for patterns indicative of fraud. \n",
    "\n",
    "\\* **Dataset Description:**\n",
    "The dataset used to train the model contains historical transaction data from a financial institution. Each sample in the dataset represents a single transaction consisting of *step*, *amount*, *nameOrig*, *oldbalanceOrg*, *newbalanceOrig*, *nameDest*, *newbalanceDest*, *oldbalanceDest*, *isFraud*, *isFlaggedFraud* \n",
    "\n",
    "\\* **Feature Selection**\n",
    "['type','amount','oldbalanceOrg','newbalanceOrig','nameDest','isFlaggedFraud'] were selected for training. Based on EDA done with individual columns, correlation matrix, etc.\n",
    "\n",
    "\\* **Model Training:**\n",
    "Logistic Regression algorithm was used for this fraud detection task. Logistic Regression is a widely-used classification algorithm that predicts the probability of a binary outcome with high accuracy, in this case the probability of a transaction being fraudulent or not.\n",
    "\n",
    "\\* **Model Evaluation:**\n",
    "To evaluate the performance of the fraud detection model, the dataset is split into training and testing sets. Metrics such as accuracy, confusion matrix, precision, recall, F1-score(classification_report) are computed on the test set to assess the model's effectiveness in detecting fraudulent transactions.\n",
    "\n",
    "The model has overall accuracy of ***99.94%***. It has high precision(1), recall(1) and f1-score(1) in detecting non-fraud transaction and has low precision(0.71), with high recall(0.98), f1-score(0.83) for detecting fraud transaction although it has high recall detecting ***98%*** of fraud cases and considering the false positive was just ***0.05%*** of actual non-fraud it makes the low precision rating insignificant\n",
    "\n",
    "\\* **Interpretting the Model**\n",
    "The models coefficients provide insights into the impact of each feature on the probability of fraud. \n",
    "The **'oldbalanceOrg'** column has a high positive coefficient of ***8.85e-04*** indicating a higher initial account balance is associated with a higher likelihood of fraud. \n",
    "The **'amount'** column has the highest negative coefficient of ***-8.85e-04*** indicating that lesser fraud happen of higher transaction amount.\n",
    "\n",
    "\n",
    "\\* **Limitations:**\n",
    "While Logistic Regression is interpretable and performs really well in predicting binary output, it might have limitations in capturing complex relationships between features. In cases where interactions between features are non-linear eg('type','nameDest'), more sophisticated models like Random Forests, Gradient Boosting Machines, or Neural Networks may be more suitable.\n",
    "\n",
    "\\* **Future Improvements:**\n",
    "To enhance the model's performance, further exploration of other machine learning algorithms and ensemble methods can be considered.(I couldn't because of GPU processing power limitations on my end)\n",
    "\n",
    "\\* **Conclusion:**\n",
    "This Logistical Regression Model is capable of categorising transaction with an accuracy of ***99.94%*** and predicting ***98%*** of the fraud transactions. It mainly focuses on 'oldbalanceOrg', 'newbalanceOrig' and 'amount' to draw the prediction. This model can help financial institutions take premptive measures by predicting and stopping frauds before they happen. "
   ]
  },
  {
   "cell_type": "markdown",
   "id": "c731b022",
   "metadata": {},
   "source": []
  },
  {
   "cell_type": "markdown",
   "id": "0a04a1f5",
   "metadata": {},
   "source": [
    "### 3.How did you select variables to be included in the model?\n",
    "The features were selected based on EDA performed using methods like correlation matrix, summary statistics, data visualisation, etc\n",
    "- The 'step' variable was redundant log data.\n",
    "- The 'type' data was encoded to value 1-5 and selected for training\n",
    "- The 'nameOrig' variable was dropped after determininig that it was constant. Additionally all values prefixed 'C' which I believe stands for customer, so furthermore I didn't want to include it (by just adding the id number after the prefix) because that might lead to targeted bias towards particular customers\n",
    "- The 'oldbalanceOrg' variable was used in training as it had high coeffeciency and it was a linear data which is good data for Logistic Regression Models.\n",
    "- The 'newbalanceOrig' was also selected for the same reason as 'oldbalanceOrg'\n",
    "- The 'nameDest' was simplified and categorised into 'C & M' and kept as there was no Fraud transaction under 'Merchant(M)' tranaction which is a direct idicative of non-fraud transaction.\n",
    "- The new and old balance of destination was dropped due to unavailibliy of data for merchants.\n",
    "- The isFlaggedFraud was kept as all flagged transaction were 'Fraud' making it a direct indicative of fraud.\n"
   ]
  },
  {
   "cell_type": "markdown",
   "id": "37ff0b48",
   "metadata": {},
   "source": [
    "### 4.Demonstrate the performance of the model by using best set of tools.\n",
    "The model achieved an impressive overall accuracy score of ***99.94%.*** It demonstrates high precision, recall, and F1-score in detecting non-fraudulent transactions, indicating its ability to correctly identify genuine transactions. On the other hand, the model shows a lower precision (0.71) but a significantly higher recall (0.98) and F1-score (0.83) for detecting fraudulent transactions.\n",
    "\n",
    "The high recall for fraud detection suggests that the model can correctly detect nearly ***98%*** of all actual fraud cases. This is a crucial aspect for a fraud detection system as missing fraudulent transactions can have severe consequences thus higher recall was given preferrence. Additionally, the low precision for fraud detection (0.71) means a higher false positive prediction. However, the actual false positives represent just ***0.05%*** of the total non-fraudulent cases, making the impact of false positives relatively insignificant.\n",
    "\n",
    "In summary, the model's prioritization of recall over precision for fraud detection indicates a robust ability to identify a vast majority of fraudulent transactions while maintaining a very high accuracy in classifying non-fraudulent transactions. The trade-off between precision and recall aligns well with the fraud detection objective, making the model highly effective in catching potential fraud cases. The model's performance indicates a strong foundation for its practical application in real-world scenarios.\n",
    "\n",
    "Here's the table and data showing the same."
   ]
  },
  {
   "cell_type": "code",
   "execution_count": 33,
   "id": "d532707b",
   "metadata": {},
   "outputs": [
    {
     "name": "stdout",
     "output_type": "stream",
     "text": [
      "Accuracy score: 0.9994766306961598\n",
      "\n",
      "Confusion Matrix:\n"
     ]
    },
    {
     "data": {
      "image/png": "[encoded data removed]",
      "text/plain": [
       "<Figure size 400x300 with 1 Axes>"
      ]
     },
     "metadata": {},
     "output_type": "display_data"
    },
    {
     "name": "stdout",
     "output_type": "stream",
     "text": [
      "\n",
      "Classification Report:\n",
      "              precision    recall  f1-score   support\n",
      "\n",
      "           0       1.00      1.00      1.00   1270904\n",
      "           1       0.71      0.98      0.83      1620\n",
      "\n",
      "    accuracy                           1.00   1272524\n",
      "   macro avg       0.86      0.99      0.91   1272524\n",
      "weighted avg       1.00      1.00      1.00   1272524\n",
      "\n"
     ]
    }
   ],
   "source": [
    "# Calculate the accuracy using accuracy_score\n",
    "accuracy = accuracy_score(y_test, y_pred)\n",
    "\n",
    "# Creating a confusion matrix\n",
    "cm = confusion_matrix(y_test, y_pred)\n",
    "\n",
    "# Creating a classification report\n",
    "report = classification_report(y_test, y_pred)\n",
    "\n",
    "print(\"Accuracy score:\", accuracy)\n",
    "\n",
    "#plotting a heatmap of the confusion matrix\n",
    "print(\"\\nConfusion Matrix:\")\n",
    "plt.figure(figsize=(4, 3))\n",
    "sns.heatmap(cm, annot=True, fmt='d', cmap='Blues', cbar=False)\n",
    "plt.xlabel('Predicted')\n",
    "plt.ylabel('Actual')\n",
    "plt.title('Confusion Matrix')\n",
    "plt.show()\n",
    "\n",
    "print(\"\\nClassification Report:\")\n",
    "print(report)"
   ]
  },
  {
   "cell_type": "markdown",
   "id": "038fee66",
   "metadata": {},
   "source": [
    "### 5.What are the key factors that predict fraudulent customer?\n",
    "From Interpretting the model it's shown that 'oldbalanceOrg', 'newbalanceOrig' and 'amount' are the key factors as they have the highest feature coeffecient."
   ]
  },
  {
   "cell_type": "markdown",
   "id": "cc130b1a",
   "metadata": {},
   "source": [
    "### 6.Do these factors make sense? If yes, How? If not, How not?\n",
    "Yes, these factors make sense for the follwing reasons:\n",
    "- 'oldbalanceOrg' shows that accounts with higher balance are often targeted probably because they present a more lucrative opportunity to maximize their gains. It also gives a chance to not be noticed, as small change in big number could be easily missed by the victim.\n",
    "- 'amount' shows that most fraudsters tend to keep the fraudulent transaction amounts moderate rather than attempting extremely large amount fraudulent transactions. There could be several reasons for this behavior such as 'Avoiding Detection', 'Bypassing Authorization Limits',etc.\n",
    "- 'newbalance' this is a factor that is directly connected to and affected by oldbalance and amount. It is also possible to notice discrepancies in newbalance compared to what it should be."
   ]
  },
  {
   "cell_type": "markdown",
   "id": "303e1a0a",
   "metadata": {},
   "source": [
    "### 7.What kind of prevention should be adopted while company update its infrastructure?\n",
    "When a company updates its infrastructure to include a model, several prevention measures needs to be taken such as:\n",
    "- Testing and Validation: Before deploying the model in the production environment, test and validate its performance on a separate staging environment. Verify that the model produces accurate and reliable results and that it aligns with the intended business objectives.\n",
    "- Data Security and Privacy: If the data used for the model contains sensitive information, take necessary measures to secure the data and comply with data privacy regulations. Implement access controls and encryption protocols to safeguard the data.\n",
    "- Scalability Considerations: Depending on the anticipated usage and workload, ensure that the infrastructure supporting the model is scalable. This allows the company to handle increased demand without compromising performance.\n",
    "- Safe Disposing: Disposing off old system should be done carefully as it could still contain sensitive information which can be used to better chose vulnerable targets."
   ]
  },
  {
   "cell_type": "markdown",
   "id": "b6eb2a80",
   "metadata": {},
   "source": [
    "### 8.Assuming these actions have been implemented, how would you determine if they work?\n",
    "To determine if the actions implemented work, one can use a combination of testing, monitoring, and evaluation methods.\n",
    "- Testing and Validation: Conduct testing and validation of the entire updated infrastructure and the integrated model. Ensure that all components are functioning as expected and that the model is providing accurate and reliable predictions. \n",
    "- Comparison with Baselines: Compare the performance of the updated infrastructure and the logistic regression model with the baselines established before the update. \n",
    "- User Feedback and Acceptance: Gather feedback from users who interact with the updated infrastructure and the model to ensure that the changes have met their needs and expectations."
   ]
  },
  {
   "cell_type": "markdown",
   "id": "ccb63775",
   "metadata": {},
   "source": [
    "### A model is sucessfully created that predicts fraudulent transaction in a financial organisation with high accuracy."
   ]
  },
  {
   "cell_type": "markdown",
   "id": "59ed0161",
   "metadata": {},
   "source": [
    "***— Simon Nadar***"
   ]
  }
 ],
 "metadata": {
  "kernelspec": {
   "display_name": "Python 3 (ipykernel)",
   "language": "python",
   "name": "python3"
  },
  "language_info": {
   "codemirror_mode": {
    "name": "ipython",
    "version": 3
   },
   "file_extension": ".py",
   "mimetype": "text/x-python",
   "name": "python",
   "nbconvert_exporter": "python",
   "pygments_lexer": "ipython3",
   "version": "3.10.9"
  }
 },
 "nbformat": 4,
 "nbformat_minor": 5
}
